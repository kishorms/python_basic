{
  "nbformat": 4,
  "nbformat_minor": 0,
  "metadata": {
    "colab": {
      "name": "String_in_python.ipynb",
      "provenance": [],
      "authorship_tag": "ABX9TyPpqZv7NCX/I6v05yW64BrU",
      "include_colab_link": true
    },
    "kernelspec": {
      "name": "python3",
      "display_name": "Python 3"
    },
    "language_info": {
      "name": "python"
    }
  },
  "cells": [
    {
      "cell_type": "markdown",
      "metadata": {
        "id": "view-in-github",
        "colab_type": "text"
      },
      "source": [
        "<a href=\"https://colab.research.google.com/github/kishorms/python_basic/blob/main/String_in_python.ipynb\" target=\"_parent\"><img src=\"https://colab.research.google.com/assets/colab-badge.svg\" alt=\"Open In Colab\"/></a>"
      ]
    },
    {
      "cell_type": "markdown",
      "source": [
        "## **String In Python**\n",
        "\n",
        "\n",
        "\n",
        "*   string is \"\" or '' text\n",
        "*   datatype is str\n",
        "*   most commanly used datatype in python\n",
        "*   List item\n",
        "\n",
        "\n",
        "\n",
        "\n"
      ],
      "metadata": {
        "id": "3nbrjagRkCI_"
      }
    },
    {
      "cell_type": "code",
      "execution_count": 1,
      "metadata": {
        "colab": {
          "base_uri": "https://localhost:8080/"
        },
        "id": "mjH0-Ba1j5ja",
        "outputId": "f1778ae3-90e8-4b30-af98-f9b643d4615d"
      },
      "outputs": [
        {
          "output_type": "execute_result",
          "data": {
            "text/plain": [
              "str"
            ]
          },
          "metadata": {},
          "execution_count": 1
        }
      ],
      "source": [
        "str = 'kishor'\n",
        "type(str)\n",
        "print(str). # print string"
      ]
    },
    {
      "cell_type": "markdown",
      "source": [
        "**Multiline String in Python**\n",
        "\n",
        "You can assign a multiline string to a variable by using three quotes: \"\"\"< here multi line text string etc >\"\"\""
      ],
      "metadata": {
        "id": "kmM8oRZLk29O"
      }
    },
    {
      "cell_type": "code",
      "source": [
        "a = \"\"\"kishor lering python,\n",
        "deep level for data science and doing some magic,\n",
        "welcome to python\"\"\"\n",
        "print(a)"
      ],
      "metadata": {
        "colab": {
          "base_uri": "https://localhost:8080/"
        },
        "id": "VF4pKknzlCBW",
        "outputId": "2aa14a35-d894-46fe-bb00-7e6ebef855d6"
      },
      "execution_count": 2,
      "outputs": [
        {
          "output_type": "stream",
          "name": "stdout",
          "text": [
            "kishor lering python,\n",
            "deep level for data science and doing some magic,\n",
            "welcome to python\n"
          ]
        }
      ]
    },
    {
      "cell_type": "markdown",
      "source": [
        "**Strings are Arrays**\n",
        "\n",
        "Like many other popular programming languages, strings in Python are arrays of bytes representing unicode characters.\n",
        "However, Python does not have a character data type, a single character is simply a string with a length of 1.\n",
        "Square brackets can be used to access elements of the string."
      ],
      "metadata": {
        "id": "DhAy9rcOlvGu"
      }
    },
    {
      "cell_type": "code",
      "source": [
        "str =\"Kishor is here\"\n",
        "print(str[0]) # 0th index\n",
        "print(str[1]) # 1th index"
      ],
      "metadata": {
        "colab": {
          "base_uri": "https://localhost:8080/"
        },
        "id": "I3K8b54Ilyc3",
        "outputId": "f6a85784-671c-414f-9485-965315c31067"
      },
      "execution_count": 3,
      "outputs": [
        {
          "output_type": "stream",
          "name": "stdout",
          "text": [
            "K\n",
            "i\n"
          ]
        }
      ]
    },
    {
      "cell_type": "markdown",
      "source": [
        "**Looping Through a String**\n",
        "Since strings are arrays, we can loop through the characters in a string, with a for loop."
      ],
      "metadata": {
        "id": "7XPiLTMSmL8O"
      }
    },
    {
      "cell_type": "code",
      "source": [
        "for a in \"kishor\":\n",
        "  print(' '+a)"
      ],
      "metadata": {
        "colab": {
          "base_uri": "https://localhost:8080/"
        },
        "id": "JiLHT3RGmT5c",
        "outputId": "ebc7b4b7-e2f5-4c15-fd8d-b54fd20a5e18"
      },
      "execution_count": 4,
      "outputs": [
        {
          "output_type": "stream",
          "name": "stdout",
          "text": [
            " k\n",
            " i\n",
            " s\n",
            " h\n",
            " o\n",
            " r\n"
          ]
        }
      ]
    },
    {
      "cell_type": "markdown",
      "source": [
        "**String funcations**\n",
        "\n",
        "with the help of dir('string') we getting all the funcation of an string\n",
        "\n"
      ],
      "metadata": {
        "id": "TLMIkbk_mhVs"
      }
    },
    {
      "cell_type": "code",
      "source": [
        "dir('string')"
      ],
      "metadata": {
        "id": "VyGqufQFmvvQ"
      },
      "execution_count": null,
      "outputs": []
    },
    {
      "cell_type": "markdown",
      "source": [
        "some string funations \n",
        "\n",
        "len : it gives lenth of string"
      ],
      "metadata": {
        "id": "mrDDIhFjpoU9"
      }
    },
    {
      "cell_type": "code",
      "source": [
        "len(\"kishor\")"
      ],
      "metadata": {
        "id": "3zUOruMopxHK"
      },
      "execution_count": null,
      "outputs": []
    }
  ]
}